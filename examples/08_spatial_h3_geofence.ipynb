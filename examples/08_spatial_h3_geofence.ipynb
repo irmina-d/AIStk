{
 "cells": [
  {
   "cell_type": "markdown",
   "id": "72de6d88",
   "metadata": {},
   "source": [
    "# 08 — Spatial: H3 & Geofence\n",
    "Aggregate to H3 cells and filter by polygon."
   ]
  },
  {
   "cell_type": "code",
   "execution_count": null,
   "id": "f6df1aeb",
   "metadata": {},
   "outputs": [],
   "source": [
    "from shapely.geometry import Polygon\n",
    "from aistk.core import AISDataset\n",
    "from aistk.spatial import grid_features, geofence"
   ]
  },
  {
   "cell_type": "code",
   "execution_count": null,
   "id": "1df7466c",
   "metadata": {},
   "outputs": [],
   "source": [
    "ds = AISDataset('data/ais').filter(mmsi=[244660000]).between('2024-01-01','2024-01-02')\n",
    "df = ds.collect()\n",
    "\n",
    "h3df = grid_features(df, resolution=7)\n",
    "h3df.head()"
   ]
  },
  {
   "cell_type": "code",
   "execution_count": null,
   "id": "89d028e5",
   "metadata": {},
   "outputs": [],
   "source": [
    "poly = Polygon([(18.5,54.2),(18.8,54.2),(18.8,54.5),(18.5,54.5)])\n",
    "inside = geofence(df, poly)\n",
    "inside.height"
   ]
  }
 ],
 "metadata": {},
 "nbformat": 4,
 "nbformat_minor": 5
}
