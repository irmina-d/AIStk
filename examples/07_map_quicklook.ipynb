{
 "cells": [
  {
   "cell_type": "markdown",
   "id": "3fafd2c3",
   "metadata": {},
   "source": [
    "# 07 — Quick Folium Map\n",
    "Preview a vessel track for a selected MMSI."
   ]
  },
  {
   "cell_type": "code",
   "execution_count": null,
   "id": "8d6d817a",
   "metadata": {},
   "outputs": [],
   "source": [
    "from aistk.core import AISDataset"
   ]
  },
  {
   "cell_type": "code",
   "execution_count": null,
   "id": "1adc758e",
   "metadata": {},
   "outputs": [],
   "source": [
    "ds = AISDataset('data/ais').filter(mmsi=[244660000]).between('2024-01-03','2024-01-05')\n",
    "html = ds.plot_map('out/track.html')\n",
    "html"
   ]
  }
 ],
 "metadata": {},
 "nbformat": 4,
 "nbformat_minor": 5
}
