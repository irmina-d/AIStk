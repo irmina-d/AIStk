{
 "cells": [
  {
   "cell_type": "markdown",
   "id": "4736b461",
   "metadata": {},
   "source": [
    "# 03 — Batch Event Detection\n",
    "Detect events on a filtered subset."
   ]
  },
  {
   "cell_type": "code",
   "execution_count": null,
   "id": "2cfb72ba",
   "metadata": {},
   "outputs": [],
   "source": [
    "from aistk.core import AISDataset\n",
    "from aistk.events import detect_events_df"
   ]
  },
  {
   "cell_type": "code",
   "execution_count": null,
   "id": "290c11dc",
   "metadata": {},
   "outputs": [],
   "source": [
    "ds = AISDataset('data/ais').filter(mmsi=[244660000]).between('2024-01-01','2024-01-07')\n",
    "df = ds.collect()\n",
    "ev = detect_events_df(df, turn_deg=30.0, stop_sog=0.5, stop_min=15, draft_jump_m=0.3)\n",
    "ev.head()"
   ]
  }
 ],
 "metadata": {},
 "nbformat": 4,
 "nbformat_minor": 5
}
