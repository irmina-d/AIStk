{
 "cells": [
  {
   "cell_type": "markdown",
   "id": "2a7adfd0",
   "metadata": {},
   "source": [
    "# 05 — Dask Large Stats\n",
    "Out-of-core statistics on very large datasets."
   ]
  },
  {
   "cell_type": "code",
   "execution_count": null,
   "id": "45b55a99",
   "metadata": {},
   "outputs": [],
   "source": [
    "import dask.dataframe as dd\n",
    "from aistk.backends.dask_backend import compute_stats_dask"
   ]
  },
  {
   "cell_type": "code",
   "execution_count": null,
   "id": "698a9ebe",
   "metadata": {},
   "outputs": [],
   "source": [
    "ddf = dd.read_parquet('lake/clean/2024/*.parquet')\n",
    "res = compute_stats_dask(ddf, level='mmsi')\n",
    "res.head()"
   ]
  }
 ],
 "metadata": {},
 "nbformat": 4,
 "nbformat_minor": 5
}
