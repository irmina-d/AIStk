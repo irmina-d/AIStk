{
 "cells": [
  {
   "cell_type": "markdown",
   "id": "75135fca",
   "metadata": {},
   "source": [
    "# 01 — Getting Started\n",
    "Load AIS data, filter by MMSI & time, compute stats, write Parquet."
   ]
  },
  {
   "cell_type": "code",
   "execution_count": null,
   "id": "c4c04b11",
   "metadata": {},
   "outputs": [],
   "source": [
    "from aistk.core import AISDataset\n",
    "from aistk.stats import compute_stats_df"
   ]
  },
  {
   "cell_type": "code",
   "execution_count": null,
   "id": "283bde38",
   "metadata": {},
   "outputs": [],
   "source": [
    "ds = AISDataset('data/ais', pattern='*.csv')\n",
    "ds = ds.filter(mmsi=[244660000]).between('2024-01-01','2024-02-01')\n",
    "df = ds.collect()\n",
    "print('Rows:', df.height)"
   ]
  },
  {
   "cell_type": "code",
   "execution_count": null,
   "id": "96810d7c",
   "metadata": {},
   "outputs": [],
   "source": [
    "out = compute_stats_df(df, level='mmsi')\n",
    "print(out)\n",
    "\n",
    "ds.write_parquet('out/ais_jan.parquet')\n",
    "print('Written: out/ais_jan.parquet')"
   ]
  }
 ],
 "metadata": {},
 "nbformat": 4,
 "nbformat_minor": 5
}
