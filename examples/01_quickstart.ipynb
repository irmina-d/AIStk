{
 "cells": [
  {
   "cell_type": "markdown",
   "id": "c17bbb6c",
   "metadata": {},
   "source": [
    "# Example 1 — Quickstart with AISDataset"
   ]
  },
  {
   "cell_type": "code",
   "execution_count": null,
   "id": "6de89bcb",
   "metadata": {},
   "outputs": [],
   "source": [
    "\n",
    "from aistk import AISDataset\n",
    "\n",
    "# Point to your AIS CSV folder (replace with real path)\n",
    "ds = (AISDataset(\"tests/data\", pattern=\"*.csv\")\n",
    "      .with_columns([\"MMSI\",\"BaseDateTime\",\"LAT\",\"LON\",\"SOG\",\"COG\",\"Draft\"])\n",
    "      .between(\"2024-01-01\",\"2024-01-02\")\n",
    "      .filter(mmsi=123))\n",
    "\n",
    "df = ds.collect()\n",
    "df\n"
   ]
  },
  {
   "cell_type": "code",
   "execution_count": null,
   "id": "bee1cc63",
   "metadata": {},
   "outputs": [],
   "source": [
    "\n",
    "# Compute trajectory statistics\n",
    "stats = ds.stats()\n",
    "stats\n"
   ]
  },
  {
   "cell_type": "code",
   "execution_count": null,
   "id": "f93e416d",
   "metadata": {},
   "outputs": [],
   "source": [
    "\n",
    "# Detect events: turns, stops, gaps, draft changes\n",
    "events = ds.detect_events()\n",
    "events\n"
   ]
  },
  {
   "cell_type": "code",
   "execution_count": null,
   "id": "2b0c020e",
   "metadata": {},
   "outputs": [],
   "source": [
    "\n",
    "# Plot ship track to HTML map (requires folium)\n",
    "ds.plot_map(\"quickstart_track.html\")\n",
    "\"Map saved to quickstart_track.html\"\n"
   ]
  }
 ],
 "metadata": {},
 "nbformat": 4,
 "nbformat_minor": 5
}
