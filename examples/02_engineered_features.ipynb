{
 "cells": [
  {
   "cell_type": "markdown",
   "id": "15aefb63",
   "metadata": {},
   "source": [
    "# Example 2 — Engineered Features from AIS Data"
   ]
  },
  {
   "cell_type": "code",
   "execution_count": null,
   "id": "a7ac88ef",
   "metadata": {},
   "outputs": [],
   "source": [
    "\n",
    "from aistk import AISDataset\n",
    "\n",
    "ds = (AISDataset(\"tests/data\", pattern=\"*.csv\")\n",
    "      .with_columns([\"MMSI\",\"BaseDateTime\",\"LAT\",\"LON\",\"SOG\",\"COG\",\"Draft\"])\n",
    "      .between(\"2024-01-01\",\"2024-01-02\"))\n",
    "\n",
    "df = ds.collect()\n",
    "print(df)\n",
    "\n",
    "stats = ds.stats()\n",
    "print(stats)\n",
    "\n",
    "# Extract specific engineered feature: tortuosity\n",
    "tortuosity = stats[\"tortuosity\"][0]\n",
    "print(\"Tortuosity:\", tortuosity)\n"
   ]
  }
 ],
 "metadata": {},
 "nbformat": 4,
 "nbformat_minor": 5
}
