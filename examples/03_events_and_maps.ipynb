{
 "cells": [
  {
   "cell_type": "markdown",
   "id": "367b0d6b",
   "metadata": {},
   "source": [
    "# Example 3 — Event Detection and Mapping"
   ]
  },
  {
   "cell_type": "code",
   "execution_count": null,
   "id": "f0d920cb",
   "metadata": {},
   "outputs": [],
   "source": [
    "\n",
    "from aistk import AISDataset\n",
    "\n",
    "ds = (AISDataset(\"tests/data\", pattern=\"*.csv\")\n",
    "      .with_columns([\"MMSI\",\"BaseDateTime\",\"LAT\",\"LON\",\"SOG\",\"COG\",\"Draft\"]))\n",
    "\n",
    "df = ds.collect()\n",
    "\n",
    "# Event detection\n",
    "events = ds.detect_events(turn_deg=20, stop_sog=0.5, stop_min=10, draft_jump_m=0.2)\n",
    "print(events)\n",
    "\n",
    "# Plot\n",
    "ds.plot_map(\"events_map.html\")\n",
    "\"Map saved to events_map.html\"\n"
   ]
  }
 ],
 "metadata": {},
 "nbformat": 4,
 "nbformat_minor": 5
}
